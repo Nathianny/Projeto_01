{
  "nbformat": 4,
  "nbformat_minor": 0,
  "metadata": {
    "colab": {
      "provenance": [],
      "authorship_tag": "ABX9TyNFphCG0ohPNQQjXG77R43F",
      "include_colab_link": true
    },
    "kernelspec": {
      "name": "python3",
      "display_name": "Python 3"
    },
    "language_info": {
      "name": "python"
    }
  },
  "cells": [
    {
      "cell_type": "markdown",
      "metadata": {
        "id": "view-in-github",
        "colab_type": "text"
      },
      "source": [
        "<a href=\"https://colab.research.google.com/github/Nathianny/Projetos_LP/blob/main/Projeto01_Partell.ipynb\" target=\"_parent\"><img src=\"https://colab.research.google.com/assets/colab-badge.svg\" alt=\"Open In Colab\"/></a>"
      ]
    },
    {
      "cell_type": "code",
      "execution_count": 1,
      "metadata": {
        "colab": {
          "base_uri": "https://localhost:8080/"
        },
        "id": "yzXESgpQHGka",
        "outputId": "427d5371-cc0e-48b9-c502-3cb2e76b5f83"
      },
      "outputs": [
        {
          "output_type": "stream",
          "name": "stdout",
          "text": [
            "Collecting mysql-connector-python\n",
            "  Downloading mysql_connector_python-8.1.0-cp310-cp310-manylinux_2_17_x86_64.whl (27.5 MB)\n",
            "\u001b[2K     \u001b[90m━━━━━━━━━━━━━━━━━━━━━━━━━━━━━━━━━━━━━━━━\u001b[0m \u001b[32m27.5/27.5 MB\u001b[0m \u001b[31m61.1 MB/s\u001b[0m eta \u001b[36m0:00:00\u001b[0m\n",
            "\u001b[?25hCollecting protobuf<=4.21.12,>=4.21.1 (from mysql-connector-python)\n",
            "  Downloading protobuf-4.21.12-cp37-abi3-manylinux2014_x86_64.whl (409 kB)\n",
            "\u001b[2K     \u001b[90m━━━━━━━━━━━━━━━━━━━━━━━━━━━━━━━━━━━━━━\u001b[0m \u001b[32m409.8/409.8 kB\u001b[0m \u001b[31m45.3 MB/s\u001b[0m eta \u001b[36m0:00:00\u001b[0m\n",
            "\u001b[?25hInstalling collected packages: protobuf, mysql-connector-python\n",
            "  Attempting uninstall: protobuf\n",
            "    Found existing installation: protobuf 3.20.3\n",
            "    Uninstalling protobuf-3.20.3:\n",
            "      Successfully uninstalled protobuf-3.20.3\n",
            "\u001b[31mERROR: pip's dependency resolver does not currently take into account all the packages that are installed. This behaviour is the source of the following dependency conflicts.\n",
            "tensorflow-metadata 1.14.0 requires protobuf<4.21,>=3.20.3, but you have protobuf 4.21.12 which is incompatible.\u001b[0m\u001b[31m\n",
            "\u001b[0mSuccessfully installed mysql-connector-python-8.1.0 protobuf-4.21.12\n"
          ]
        }
      ],
      "source": [
        "!pip install mysql-connector-python"
      ]
    },
    {
      "cell_type": "code",
      "source": [
        "# importando a biblioteca\n",
        "import mysql.connector\n",
        "\n",
        "# criando uma estrutura de dicionário para guardar os dados para conexão\n",
        "dados_conexao = {'host':'srv-labinf.cchsa.ufpb.br',\n",
        "                 'user':'rcavn',\n",
        "                 'password':'G%(@5Km&$XEIT9oS',\n",
        "                 'database':'db_rede_vestir_bem'}\n",
        "try:\n",
        "  #abrindo a conexão com os dadosdo dicionário\n",
        "  with mysql.connector.connect(**dados_conexao) as conexao:\n",
        "   if conexao.is_connected():\n",
        "      # comandos que serão usados para manipular os dados do nosso programa\n",
        "      print('Aconexão foi bem-sucedida ao banco de dados MYSQL')\n",
        "\n",
        "except mysql.connector.Error as erro:\n",
        "  print(f'Ocorreu um ero na conexão com o banco de dados: {erro}')"
      ],
      "metadata": {
        "colab": {
          "base_uri": "https://localhost:8080/"
        },
        "id": "0DcE7xWNHYfN",
        "outputId": "bf760c41-6798-4269-fed5-01b98bda0105"
      },
      "execution_count": 2,
      "outputs": [
        {
          "output_type": "stream",
          "name": "stdout",
          "text": [
            "Aconexão foi bem-sucedida ao banco de dados MYSQL\n"
          ]
        }
      ]
    },
    {
      "cell_type": "code",
      "source": [
        "# importando a biblioteca\n",
        "import mysql.connector\n",
        "\n",
        "# criando uma estrutura de dicionário para guardar os dados para conexão\n",
        "dados_conexao = {'host':'srv-labinf.cchsa.ufpb.br',\n",
        "                 'user':'rcavn',\n",
        "                 'password':'G%(@5Km&$XEIT9oS',\n",
        "                 'database':'db_rede_vestir_bem'}\n",
        "try:\n",
        "  #abrindo a conexão com os dadosdo dicionário\n",
        " with mysql.connector.connect(**dados_conexao) as conexao:\n",
        "   if conexao.is_connected():\n",
        "    # criando nosso cursor\n",
        "    with conexao.cursor() as cursor:\n",
        "      # definindo nossa consulta que lista os nome das filias da nossa rede\n",
        "      consulta = 'SELECT descricao FROM tb_lojas'\n",
        "\n",
        "      # efetuando uma consulta através do cursor no banco de dados\n",
        "      cursor.execute(consulta)\n",
        "\n",
        "      # recuperando o resultado da consulta\n",
        "      resultado = cursor.fetchall()\n",
        "\n",
        "      # exibindo o resultado\n",
        "      for linha in resultado:\n",
        "        print(linha[0])\n",
        "\n",
        "except mysql.connector.Error as erro:\n",
        "  print(f'Ocorreu um ero na conexão com o banco de dados: {erro}')"
      ],
      "metadata": {
        "colab": {
          "base_uri": "https://localhost:8080/"
        },
        "id": "JnhpQS9tHkRh",
        "outputId": "c808b9bc-388b-46b8-8669-5bebe3567dfe"
      },
      "execution_count": 3,
      "outputs": [
        {
          "output_type": "stream",
          "name": "stdout",
          "text": [
            "Araçagí/PB\n",
            "Arara/PB\n",
            "Bananeiras/PB\n",
            "Belém/PB\n",
            "Borborema/PB\n",
            "Cacimba de Dentro/PB\n",
            "Caiçara/PB\n",
            "Guarabira/PB\n",
            "Roma/PB\n",
            "Serraria/PB\n",
            "Solânea/PB\n"
          ]
        }
      ]
    },
    {
      "cell_type": "code",
      "source": [
        "def lista_filiais():\n",
        "  # importando a biblioteca\n",
        " import mysql.connector\n",
        "\n",
        "# criando uma estrutura de dicionário para guardar os dados para conexão\n",
        "dados_conexao = {'host':'srv-labinf.cchsa.ufpb.br',\n",
        "                 'user':'rcavn',\n",
        "                 'password':'G%(@5Km&$XEIT9oS',\n",
        "                 'database':'db_rede_vestir_bem'}\n",
        "try:\n",
        "  #abrindo a conexão com os dadosdo dicionário\n",
        " with mysql.connector.connect(**dados_conexao) as conexao:\n",
        "   if conexao.is_connected():\n",
        "    # criando nosso cursor\n",
        "    with conexao.cursor() as cursor:\n",
        "      # definindo leitura da lista dos nome das filias da nossa rede\n",
        "      consulta = 'SELECT descricao FROM tb_lojas'\n",
        "\n",
        "      # efetuando uma consulta através do cursor no banco de dados\n",
        "      cursor.execute(consulta)\n",
        "\n",
        "      # recuperando o resultado da consulta\n",
        "      resultado = cursor.fetchall()\n",
        "\n",
        "      # exibindo o resultado\n",
        "      for linha in resultado:\n",
        "        print(linha[0])\n",
        "\n",
        "except mysql.connector.Error as erro:\n",
        "  print(f'Ocorreu um ero na conexão com o banco de dados: {erro}')\n",
        "\n",
        "  lista_filiais()"
      ],
      "metadata": {
        "colab": {
          "base_uri": "https://localhost:8080/"
        },
        "id": "_hyz57Z1HuAJ",
        "outputId": "5b513c76-e482-488d-c839-d5f0a3567da4"
      },
      "execution_count": 4,
      "outputs": [
        {
          "output_type": "stream",
          "name": "stdout",
          "text": [
            "Araçagí/PB\n",
            "Arara/PB\n",
            "Bananeiras/PB\n",
            "Belém/PB\n",
            "Borborema/PB\n",
            "Cacimba de Dentro/PB\n",
            "Caiçara/PB\n",
            "Guarabira/PB\n",
            "Roma/PB\n",
            "Serraria/PB\n",
            "Solânea/PB\n"
          ]
        }
      ]
    },
    {
      "cell_type": "code",
      "source": [
        "# importando a biblioteca\n",
        "import mysql.connector\n",
        "\n",
        "# criando uma estrutura de dicionário para guardar os dados para conexão\n",
        "dados_conexao = {'host':'srv-labinf.cchsa.ufpb.br',\n",
        "                 'user':'rcavn',\n",
        "                 'password':'G%(@5Km&$XEIT9oS',\n",
        "                 'database':'db_rede_vestir_bem'}\n",
        "try:\n",
        "  #abrindo a conexão com os dados do dicionário\n",
        "  with mysql.connector.connect(**dados_conexao) as conexao:\n",
        "    if conexao.is_connected():\n",
        "\n",
        "      # criando nosso cursor\n",
        "      with conexao.cursor() as cursor:\n",
        "\n",
        "       nome_produto = 'Vestido Estampa'\n",
        "       preco_produto = 320,00\n",
        "\n",
        "      # define a inserção de um novo registro na tabela tb_produtos de nossa base de dados\n",
        "      consulta = f'INSERT INTO tb_produtos (descricao, valor_unitario) VALUES (\"{nome_produto}\", {preco_produto} );'\n",
        "\n",
        "      #execulta inserção\n",
        "      cursor.execute(consulta)\n",
        "\n",
        "      # salva as alteracões da tabela\n",
        "      conexao.commit()\n",
        "\n",
        "except mysql.connector.Error as erro:\n",
        "      print(f'Ocorreu um ero na conexão com o banco de dados: {erro}')"
      ],
      "metadata": {
        "id": "Yuo14-eXH605"
      },
      "execution_count": null,
      "outputs": []
    },
    {
      "cell_type": "code",
      "source": [
        "def cadastro_produto (nome_produto, preco_produto):\n",
        "  # importando a biblioteca\n",
        "  import mysql.connector\n",
        "\n",
        "  # criando uma estrutura de dicionário para guardar os dados para conexão\n",
        "  dados_conexao = {'host':'srv-labinf.cchsa.ufpb.br',\n",
        "                 'user':'rcavn',\n",
        "                 'password':'G%(@5Km&$XEIT9oS',\n",
        "                 'database':'db_rede_vestir_bem'}\n",
        "  try:\n",
        "    #abrindo a conexão com os dados do dicionário\n",
        "    with mysql.connector.connect(**dados_conexao) as conexao:\n",
        "      if conexao.is_connected():\n",
        "        # criando nosso cursor\n",
        "        with conexao.cursor() as cursor:\n",
        "          # define a inserção de um novo registro na tabela tb_produtos de nossa base de dados\n",
        "          consulta = f'INSERT INTO tb_produtos (descricao, valor_unitario) VALUES (\"{nome_produto}\", {preco_produto}\");'\n",
        "\n",
        "          # execulta inserção\n",
        "          cursor.execute(consulta)\n",
        "\n",
        "          # salva as alteracões da tabela\n",
        "          conexao.commit()\n",
        "\n",
        "  except mysql.connector.Error as erro:\n",
        "      print(f'Ocorreu um ero na conexão com o banco de dados: {erro}')"
      ],
      "metadata": {
        "id": "sp1ceKZ3JAfF"
      },
      "execution_count": 7,
      "outputs": []
    },
    {
      "cell_type": "code",
      "source": [
        "def altra_valor_produto (nome_produto, novo_preco):\n",
        "  # importando a biblioteca\n",
        "  import mysql.connector\n",
        "\n",
        "  # criando uma estrutura de dicionário para guardar os dados para conexão\n",
        "  dados_conexao = {'host':'srv-labinf.cchsa.ufpb.br',\n",
        "                 'user':'rcavn',\n",
        "                 'password':'G%(@5Km&$XEIT9oS',\n",
        "                 'database':'db_rede_vestir_bem'}\n",
        "  try:\n",
        "    #abrindo a conexão com os dados do dicionário\n",
        "    with mysql.connector.connect(**dados_conexao) as conexao:\n",
        "      if conexao.is_connected():\n",
        "        # criando nosso cursor\n",
        "        with conexao.cursor() as cursor:\n",
        "          # define a alteração de preço de um produto da tabela tb_produtos de nossa base de dados\n",
        "          consulta = f'UPDATE tb_produtos SET valor_unitarion=m{novo_preco} WHERE descricao = \"{nome_produto}\";'\n",
        "          # execulta inserção\n",
        "          cursor.execute(consulta)\n",
        "\n",
        "          # salva as alteracões da tabela\n",
        "          conexao.commit()\n",
        "\n",
        "  except mysql.connector.Error as erro:\n",
        "      print(f'Ocorreu um ero na conexão com o banco de dados: {erro}')\n",
        "\n",
        "('Vestido Estampa', 450,55)"
      ],
      "metadata": {
        "colab": {
          "base_uri": "https://localhost:8080/"
        },
        "id": "GRHh_4zEJJe-",
        "outputId": "bbe1c4f9-a8b4-43e0-e9bf-b83655d6089a"
      },
      "execution_count": 8,
      "outputs": [
        {
          "output_type": "execute_result",
          "data": {
            "text/plain": [
              "('Vestido Estampa', 450, 55)"
            ]
          },
          "metadata": {},
          "execution_count": 8
        }
      ]
    },
    {
      "cell_type": "code",
      "source": [
        "def exclui_produto (nome_produto):\n",
        "  # importando a biblioteca\n",
        "  import mysql.connector\n",
        "\n",
        "  # criando uma estrutura de dicionário para guardar os dados para conexão\n",
        "  dados_conexao = {'host':'srv-labinf.cchsa.ufpb.br',\n",
        "                 'user':'rcavn',\n",
        "                 'password':'G%(@5Km&$XEIT9oS',\n",
        "                 'database':'db_rede_vestir_bem'}\n",
        "  try:\n",
        "    #abrindo a conexão com os dados do dicionário\n",
        "    with mysql.connector.connect(**dados_conexao) as conexao:\n",
        "      if conexao.is_connected():\n",
        "        # criando nosso cursor\n",
        "        with conexao.cursor() as cursor:\n",
        "          # define a alteração de preço de um produto da tabela tb_produtos de nossa base de dados\n",
        "          consulta = f'DELETE FROM tb_produtos WHERE descricao = \"{nome_produto}\";'\n",
        "\n",
        "          # execulta inserção\n",
        "          cursor.execute(consulta)\n",
        "\n",
        "          # salva as alteracões da tabela\n",
        "          conexao.commit()\n",
        "\n",
        "  except mysql.connector.Error as erro:\n",
        "      print(f'Ocorreu um ero na conexão com o banco de dados: {erro}')\n",
        "\n",
        "exclui_produto('Vestido Estampa')"
      ],
      "metadata": {
        "id": "HQzzdCIDJbLE"
      },
      "execution_count": 9,
      "outputs": []
    }
  ]
}