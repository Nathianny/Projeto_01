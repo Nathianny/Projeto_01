{
  "nbformat": 4,
  "nbformat_minor": 0,
  "metadata": {
    "colab": {
      "provenance": [],
      "authorship_tag": "ABX9TyPTIONfJc+BjZp8+QVxJ57n",
      "include_colab_link": true
    },
    "kernelspec": {
      "name": "python3",
      "display_name": "Python 3"
    },
    "language_info": {
      "name": "python"
    }
  },
  "cells": [
    {
      "cell_type": "markdown",
      "metadata": {
        "id": "view-in-github",
        "colab_type": "text"
      },
      "source": [
        "<a href=\"https://colab.research.google.com/github/Nathianny/Projetos_LP/blob/main/projeto_02.ipynb\" target=\"_parent\"><img src=\"https://colab.research.google.com/assets/colab-badge.svg\" alt=\"Open In Colab\"/></a>"
      ]
    },
    {
      "cell_type": "code",
      "source": [
        "produtos = ['ovo de granja', 'queijo coalho', 'manteiga', 'leite pasteurizado', 'iogurte natural']\n",
        "print(produtos)"
      ],
      "metadata": {
        "colab": {
          "base_uri": "https://localhost:8080/"
        },
        "id": "vnjn62CsOLIm",
        "outputId": "3c7bd0d8-ebff-4b36-e400-3c23f682d7ea"
      },
      "execution_count": 1,
      "outputs": [
        {
          "output_type": "stream",
          "name": "stdout",
          "text": [
            "['ovo de granja', 'queijo coalho', 'manteiga', 'leite pasteurizado', 'iogurte natural']\n"
          ]
        }
      ]
    },
    {
      "cell_type": "code",
      "source": [
        "novo_item = 'queijo de manteiga'\n",
        "produtos = ['ovo de granja', 'queijo coalho', 'manteiga', 'leite pasteurizado', 'iogurte natural', novo_item]\n",
        "print(produtos)"
      ],
      "metadata": {
        "colab": {
          "base_uri": "https://localhost:8080/"
        },
        "id": "GuoYK5_hQCey",
        "outputId": "3b1c1582-ea06-4a98-bf9e-f0a264654a18"
      },
      "execution_count": 2,
      "outputs": [
        {
          "output_type": "stream",
          "name": "stdout",
          "text": [
            "['ovo de granja', 'queijo coalho', 'manteiga', 'leite pasteurizado', 'iogurte natural', 'queijo de manteiga']\n"
          ]
        }
      ]
    },
    {
      "cell_type": "code",
      "source": [
        "novo_item = 'queijo de manteiga'\n",
        "produtos.append(novo_item)\n",
        "print(produtos)"
      ],
      "metadata": {
        "colab": {
          "base_uri": "https://localhost:8080/"
        },
        "id": "gfLSS1jrQUtz",
        "outputId": "f46fa0c2-66a0-40d1-edff-a287bda991b7"
      },
      "execution_count": 3,
      "outputs": [
        {
          "output_type": "stream",
          "name": "stdout",
          "text": [
            "['ovo de granja', 'queijo coalho', 'manteiga', 'leite pasteurizado', 'iogurte natural', 'queijo de manteiga', 'queijo de manteiga']\n"
          ]
        }
      ]
    },
    {
      "cell_type": "code",
      "source": [
        "vendas = [3000, 200, 80, 135, 60, 250]\n",
        "print(vendas)"
      ],
      "metadata": {
        "colab": {
          "base_uri": "https://localhost:8080/"
        },
        "id": "57GQGbL8Qsiw",
        "outputId": "c1226d14-62dd-4b58-a91a-fc3427406ae0"
      },
      "execution_count": 5,
      "outputs": [
        {
          "output_type": "stream",
          "name": "stdout",
          "text": [
            "[3000, 200, 80, 135, 60, 250]\n"
          ]
        }
      ]
    },
    {
      "cell_type": "code",
      "source": [
        "# atualizando a quantidade de Iogurtes vendidos...\n",
        "vendas[4] = 80\n",
        "print(vendas)"
      ],
      "metadata": {
        "colab": {
          "base_uri": "https://localhost:8080/"
        },
        "id": "v2X3zueeQ5fw",
        "outputId": "37e84120-3e18-4123-b599-a1fb7c9d28c8"
      },
      "execution_count": 6,
      "outputs": [
        {
          "output_type": "stream",
          "name": "stdout",
          "text": [
            "[3000, 200, 80, 135, 80, 250]\n"
          ]
        }
      ]
    },
    {
      "cell_type": "code",
      "source": [
        "i = produtos.index('leite pasteurizado')\n",
        "print('A quantidade de intens vendidos {} foi {} litros!'.format(produtos[i], vendas[i]))"
      ],
      "metadata": {
        "colab": {
          "base_uri": "https://localhost:8080/"
        },
        "id": "LImWVuzQRMeP",
        "outputId": "36d2f18c-6ed7-42d5-b709-811ea93862fd"
      },
      "execution_count": 7,
      "outputs": [
        {
          "output_type": "stream",
          "name": "stdout",
          "text": [
            "A quantidade de intens vendidos leite pasteurizado foi 135 litros!\n"
          ]
        }
      ]
    },
    {
      "cell_type": "code",
      "source": [
        "# converte o valor que foi digitado em minúculas...\n",
        "produto = input('Insira o nome do produto procurado:').casefold()\n",
        "\n",
        "#verifica se o produto existe na lista...\n",
        "if produto in produtos:\n",
        "  #recupera a posição...\n",
        "  i = produtos.index(produto)\n",
        "  print('Foram vendidos {} unidades de {} neste ano.'.format(vendas[i], produtos[i]))\n",
        "else:\n",
        "  print('{} não foi encontrado em nosso cadastro\"'.format(produto))\n"
      ],
      "metadata": {
        "colab": {
          "base_uri": "https://localhost:8080/"
        },
        "id": "syMxOg5aRiPu",
        "outputId": "1da2adf9-a2ed-4713-ac10-0d39b672c0d1"
      },
      "execution_count": 10,
      "outputs": [
        {
          "output_type": "stream",
          "name": "stdout",
          "text": [
            "Insira o nome do produto procurado:manteiga\n",
            "Foram vendidos 80 unidades de manteiga neste ano.\n"
          ]
        }
      ]
    },
    {
      "cell_type": "code",
      "source": [
        "produtos = ['ovo de granja', 'queijo coalho', 'manteiga', 'leite pasteurizado', 'iogurte natural', 'queijo de manteiga']\n",
        "vendas = [3000, 200, 80, 135, 60, 250]\n",
        "print(produtos)\n",
        "print(vendas)\n",
        "\n",
        "# converte o valor que foi digitado em minúculas...\n",
        "novo_items = input('Digite o novo produto para ser adicionado: ').casefold()\n",
        "\n",
        "# verifica se o novo item já existe na lista...\n",
        "if novo_item not in produtos:\n",
        " produtos.append(novo_item)\n",
        " vendas.append(0)\n",
        "else:\n",
        "  print('O produto {} já existe na lista!'.format(novo_item))\n",
        "\n",
        "print(produtos)\n",
        "print(vendas)"
      ],
      "metadata": {
        "colab": {
          "base_uri": "https://localhost:8080/"
        },
        "id": "5fDDFCBpSRp_",
        "outputId": "8e0b2d87-c14b-49c0-ee85-3734a1f29992"
      },
      "execution_count": 9,
      "outputs": [
        {
          "output_type": "stream",
          "name": "stdout",
          "text": [
            "['ovo de granja', 'queijo coalho', 'manteiga', 'leite pasteurizado', 'iogurte natural', 'queijo de manteiga']\n",
            "[3000, 200, 80, 135, 60, 250]\n",
            "Digite o novo produto para ser adicionado: Leite\n",
            "O produto queijo de manteiga já existe na lista!\n",
            "['ovo de granja', 'queijo coalho', 'manteiga', 'leite pasteurizado', 'iogurte natural', 'queijo de manteiga']\n",
            "[3000, 200, 80, 135, 60, 250]\n"
          ]
        }
      ]
    },
    {
      "cell_type": "code",
      "source": [
        "produtos = ['ovo de granja', 'queijo coalho', 'manteiga', 'leite pasteurizado', 'iogurte natural', 'queijo de manteida', ' iogurte saborizado']\n",
        "print(produtos)\n",
        "\n",
        "# converte o valor que foi digitado em minúculas...\n",
        "item_a_excluir = input('Digite o produto que será removido: ').casefold()\n",
        "\n",
        "# verifica se o novo item já existe na lista...\n",
        "if item_a_excluir in produtos:\n",
        "  produtos.remove(item_a_excluir)\n",
        "  print('O produto {} foi excluido com sucesso!'.format(item_a_excluir))\n",
        "else:\n",
        "    print('O produto {} não existe na lista!'.format(item_a_excluir))\n",
        "\n",
        "print(produtos)"
      ],
      "metadata": {
        "colab": {
          "base_uri": "https://localhost:8080/"
        },
        "id": "i0uSWbYBWS2R",
        "outputId": "df88d912-24f0-479a-a3a3-a2b0046dd055"
      },
      "execution_count": 11,
      "outputs": [
        {
          "output_type": "stream",
          "name": "stdout",
          "text": [
            "['ovo de granja', 'queijo coalho', 'manteiga', 'leite pasteurizado', 'iogurte natural', 'queijo de manteida', ' iogurte saborizado']\n",
            "Digite o produto que será removido: MANTEIGA\n",
            "O produto manteiga foi excluido com sucesso!\n",
            "['ovo de granja', 'queijo coalho', 'leite pasteurizado', 'iogurte natural', 'queijo de manteida', ' iogurte saborizado']\n"
          ]
        }
      ]
    },
    {
      "cell_type": "code",
      "source": [
        "produtos = ['ovo de granja', 'queijo coalho', 'manteiga', 'leite pasteurizado', 'iogurte natural']\n",
        "print(produtos)\n",
        "\n",
        "#O índice 3 contem 'leite pasteurizado.\n",
        "i = 3\n",
        "#Opcionalmente, podemos receber o item que foi excluído...\n",
        "item_excluido = produtos.pop(i)\n",
        "print('O produto {} foi excluido com sucesso!'.format(item_excluido))\n",
        "\n",
        "print(produtos)"
      ],
      "metadata": {
        "colab": {
          "base_uri": "https://localhost:8080/"
        },
        "id": "RKXGjrrZYA7M",
        "outputId": "67989dd0-d2e2-4731-fadb-e73c89cafad8"
      },
      "execution_count": 12,
      "outputs": [
        {
          "output_type": "stream",
          "name": "stdout",
          "text": [
            "['ovo de granja', 'queijo coalho', 'manteiga', 'leite pasteurizado', 'iogurte natural']\n",
            "O produto leite pasteurizado foi excluido com sucesso!\n",
            "['ovo de granja', 'queijo coalho', 'manteiga', 'iogurte natural']\n"
          ]
        }
      ]
    },
    {
      "cell_type": "code",
      "source": [
        "produtos = ['ovo de granja', 'queijo coalho', 'manteiga', 'leite pasteurizado', 'iogurte natural', 'queijo de manteida', ' iogurte saborizado']\n",
        "unidades = ['bandeijas c\\ 30 unid.', 'kg', 'pote 200g', 'litro', 'garrafa 500ml', 'kg', 'garrafa 500ml']\n",
        "itens_vendidos = [3000, 200, 80, 135, 80, 250, 120]\n",
        "precos = [0.45, 18.50, 14.99, 3.46, 5.0, 21.35, 6.45]\n",
        "volumes_vendas = [1350, 3700, 1199.2, 467.1, 400,5337.5, 774]\n",
        "\n",
        "tamanho = len(produtos)\n",
        "print(tamanho)"
      ],
      "metadata": {
        "colab": {
          "base_uri": "https://localhost:8080/"
        },
        "id": "Jkk8ofLB1Kfl",
        "outputId": "87d54304-da1e-434d-b465-9bcf4a7cee25"
      },
      "execution_count": 13,
      "outputs": [
        {
          "output_type": "stream",
          "name": "stdout",
          "text": [
            "7\n"
          ]
        }
      ]
    },
    {
      "cell_type": "code",
      "source": [
        "produtos = ['ovo de granja', 'queijo coalho', 'manteiga', 'leite pasteurizado', 'iogurte natural', 'queijo de manteida', ' iogurte saborizado']\n",
        "unidades = ['bandeijas c\\ 30 unid.', 'kg', 'pote 200g', 'litro', 'garrafa 500ml', 'kg', 'garrafa 500ml']\n",
        "itens_vendidos = [3000, 200, 80, 135, 80, 250, 120]\n",
        "precos = [0.45, 18.50, 14.99, 3.46, 5.0, 21.35, 6.45]\n",
        "volumes_vendas = [1350, 3700, 1199.2, 467.1, 400,5337.5, 774]\n",
        "\n",
        "#Maior valor na lista de volume de vendas...\n",
        "maior_volume_vendas = max(volumes_vendas)\n",
        "\n",
        "#Posição do maior valor...\n",
        "i = volumes_vendas.index(maior_volume_vendas)\n",
        "\n",
        "texto = '''\n",
        "O produto {} vendeu {} {}, alcançando um volume de vendas de R$ {}, sendo o produto mais rentável do posto de vendas.'''\n",
        "\n",
        "print (texto.format(produtos[i], vendas[i], unidades[i], volumes_vendas[i]))\n",
        "\n",
        "#Menor valor na lista de volume de vendas...\n",
        "menor_volume_vendas = min(volumes_vendas)\n",
        "\n",
        "#Posição do menor valor...\n",
        "i = volumes_vendas.index(menor_volume_vendas)\n",
        "\n",
        "texto = '''\n",
        "O produto {} vendeu {} {}, alcançando um volume de vendas de R$ {}, sendo o produto menos rentável do posto de vendas.'''\n",
        "\n",
        "print (texto.format(produtos[i], vendas[i], unidades[i], volumes_vendas[i]))"
      ],
      "metadata": {
        "colab": {
          "base_uri": "https://localhost:8080/"
        },
        "id": "nFKtKA1K3dV2",
        "outputId": "b7a24aa5-2012-41fc-85ee-c76d1a83c5bd"
      },
      "execution_count": 14,
      "outputs": [
        {
          "output_type": "stream",
          "name": "stdout",
          "text": [
            "\n",
            "O produto queijo de manteida vendeu 250 kg, alcançando um volume de vendas de R$ 5337.5, sendo o produto mais rentável do posto de vendas.\n",
            "\n",
            "O produto iogurte natural vendeu 60 garrafa 500ml, alcançando um volume de vendas de R$ 400, sendo o produto menos rentável do posto de vendas.\n"
          ]
        }
      ]
    }
  ]
}